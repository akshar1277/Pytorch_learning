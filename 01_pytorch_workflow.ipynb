{
  "nbformat": 4,
  "nbformat_minor": 0,
  "metadata": {
    "colab": {
      "provenance": [],
      "gpuType": "T4",
      "authorship_tag": "ABX9TyPspeh1Vuc+pGwzuzYbEK10",
      "include_colab_link": true
    },
    "kernelspec": {
      "name": "python3",
      "display_name": "Python 3"
    },
    "language_info": {
      "name": "python"
    },
    "accelerator": "GPU"
  },
  "cells": [
    {
      "cell_type": "markdown",
      "metadata": {
        "id": "view-in-github",
        "colab_type": "text"
      },
      "source": [
        "<a href=\"https://colab.research.google.com/github/akshar1277/Pytorch_learning/blob/main/01_pytorch_workflow.ipynb\" target=\"_parent\"><img src=\"https://colab.research.google.com/assets/colab-badge.svg\" alt=\"Open In Colab\"/></a>"
      ]
    },
    {
      "cell_type": "markdown",
      "source": [
        "\n",
        "### Pytorch workflow\n",
        "\n",
        "\n",
        "\n",
        "\n"
      ],
      "metadata": {
        "id": "V0FV-MjFdLVQ"
      }
    },
    {
      "cell_type": "code",
      "execution_count": 1,
      "metadata": {
        "id": "Hp9zxTmycTD4"
      },
      "outputs": [],
      "source": [
        "what_were_covering={\n",
        "    1:'data preapare and load',\n",
        "    2:'build model',\n",
        "    3:'fitting the model to data(training)',\n",
        "    4:'making predictions and evaluting a model',\n",
        "    5:'saving and loading a model',\n",
        "    6:'putting it all together'\n",
        "}"
      ]
    },
    {
      "cell_type": "code",
      "source": [
        "import torch\n",
        "from torch import nn\n",
        "import matplotlib.pyplot as plt\n",
        "\n",
        "# check pytorch verison\n",
        "torch.__version__\n"
      ],
      "metadata": {
        "id": "wRYfdgXAdQnU",
        "colab": {
          "base_uri": "https://localhost:8080/",
          "height": 36
        },
        "outputId": "d3207604-8f85-45a0-9901-073639ea5dc9"
      },
      "execution_count": 2,
      "outputs": [
        {
          "output_type": "execute_result",
          "data": {
            "text/plain": [
              "'2.1.0+cu121'"
            ],
            "application/vnd.google.colaboratory.intrinsic+json": {
              "type": "string"
            }
          },
          "metadata": {},
          "execution_count": 2
        }
      ]
    },
    {
      "cell_type": "markdown",
      "source": [
        "### 1.Data (preparing and loading)\n",
        "\n",
        "Data can be almost anything in machine learning\n",
        "\n",
        "* Excel spreadsheet\n",
        "* Images of any kind\n",
        "* Videos\n",
        "* Audio\n",
        "* DNA\n",
        "* Text\n",
        "\n",
        "Machine learning is a game of two parts:\n",
        "1. Get data into numeraical represantation\n",
        "2. Build pattern from numeriacal data\n",
        "\n",
        "To showcase this let;s create some *known* data using linear regression formula.\n",
        "We'll use a linear regression formula to make a straight line with known parameter\n"
      ],
      "metadata": {
        "id": "Vi13_PGIeSHV"
      }
    },
    {
      "cell_type": "code",
      "source": [
        "# Create *known* parameters\n",
        "weight = 0.7\n",
        "bias = 0.3\n",
        "\n",
        "# Create data\n",
        "start = 0\n",
        "end = 1\n",
        "step = 0.02\n",
        "X = torch.arange(start, end, step).unsqueeze(dim=1)\n",
        "y = weight * X + bias\n",
        "\n",
        "X, y\n"
      ],
      "metadata": {
        "colab": {
          "base_uri": "https://localhost:8080/"
        },
        "id": "Ts6Nx5BJeEtb",
        "outputId": "543b9b22-7677-4570-97fb-921149391c41"
      },
      "execution_count": 3,
      "outputs": [
        {
          "output_type": "execute_result",
          "data": {
            "text/plain": [
              "(tensor([[0.0000],\n",
              "         [0.0200],\n",
              "         [0.0400],\n",
              "         [0.0600],\n",
              "         [0.0800],\n",
              "         [0.1000],\n",
              "         [0.1200],\n",
              "         [0.1400],\n",
              "         [0.1600],\n",
              "         [0.1800],\n",
              "         [0.2000],\n",
              "         [0.2200],\n",
              "         [0.2400],\n",
              "         [0.2600],\n",
              "         [0.2800],\n",
              "         [0.3000],\n",
              "         [0.3200],\n",
              "         [0.3400],\n",
              "         [0.3600],\n",
              "         [0.3800],\n",
              "         [0.4000],\n",
              "         [0.4200],\n",
              "         [0.4400],\n",
              "         [0.4600],\n",
              "         [0.4800],\n",
              "         [0.5000],\n",
              "         [0.5200],\n",
              "         [0.5400],\n",
              "         [0.5600],\n",
              "         [0.5800],\n",
              "         [0.6000],\n",
              "         [0.6200],\n",
              "         [0.6400],\n",
              "         [0.6600],\n",
              "         [0.6800],\n",
              "         [0.7000],\n",
              "         [0.7200],\n",
              "         [0.7400],\n",
              "         [0.7600],\n",
              "         [0.7800],\n",
              "         [0.8000],\n",
              "         [0.8200],\n",
              "         [0.8400],\n",
              "         [0.8600],\n",
              "         [0.8800],\n",
              "         [0.9000],\n",
              "         [0.9200],\n",
              "         [0.9400],\n",
              "         [0.9600],\n",
              "         [0.9800]]),\n",
              " tensor([[0.3000],\n",
              "         [0.3140],\n",
              "         [0.3280],\n",
              "         [0.3420],\n",
              "         [0.3560],\n",
              "         [0.3700],\n",
              "         [0.3840],\n",
              "         [0.3980],\n",
              "         [0.4120],\n",
              "         [0.4260],\n",
              "         [0.4400],\n",
              "         [0.4540],\n",
              "         [0.4680],\n",
              "         [0.4820],\n",
              "         [0.4960],\n",
              "         [0.5100],\n",
              "         [0.5240],\n",
              "         [0.5380],\n",
              "         [0.5520],\n",
              "         [0.5660],\n",
              "         [0.5800],\n",
              "         [0.5940],\n",
              "         [0.6080],\n",
              "         [0.6220],\n",
              "         [0.6360],\n",
              "         [0.6500],\n",
              "         [0.6640],\n",
              "         [0.6780],\n",
              "         [0.6920],\n",
              "         [0.7060],\n",
              "         [0.7200],\n",
              "         [0.7340],\n",
              "         [0.7480],\n",
              "         [0.7620],\n",
              "         [0.7760],\n",
              "         [0.7900],\n",
              "         [0.8040],\n",
              "         [0.8180],\n",
              "         [0.8320],\n",
              "         [0.8460],\n",
              "         [0.8600],\n",
              "         [0.8740],\n",
              "         [0.8880],\n",
              "         [0.9020],\n",
              "         [0.9160],\n",
              "         [0.9300],\n",
              "         [0.9440],\n",
              "         [0.9580],\n",
              "         [0.9720],\n",
              "         [0.9860]]))"
            ]
          },
          "metadata": {},
          "execution_count": 3
        }
      ]
    },
    {
      "cell_type": "code",
      "source": [
        "len(X),len(y)"
      ],
      "metadata": {
        "colab": {
          "base_uri": "https://localhost:8080/"
        },
        "id": "t58uuy0iiX5-",
        "outputId": "2e5cea35-6266-46eb-c3ca-8adb8232e86e"
      },
      "execution_count": 4,
      "outputs": [
        {
          "output_type": "execute_result",
          "data": {
            "text/plain": [
              "(50, 50)"
            ]
          },
          "metadata": {},
          "execution_count": 4
        }
      ]
    },
    {
      "cell_type": "markdown",
      "source": [
        "###splitting data into training and testing"
      ],
      "metadata": {
        "id": "mpmJdqrFjZuw"
      }
    },
    {
      "cell_type": "code",
      "source": [
        "train_split=int(0.8 * len(X))\n",
        "train_split"
      ],
      "metadata": {
        "colab": {
          "base_uri": "https://localhost:8080/"
        },
        "id": "vL3_fGvpi1PJ",
        "outputId": "a2127b8b-d358-4cf3-d9f4-e53bb713303c"
      },
      "execution_count": 5,
      "outputs": [
        {
          "output_type": "execute_result",
          "data": {
            "text/plain": [
              "40"
            ]
          },
          "metadata": {},
          "execution_count": 5
        }
      ]
    },
    {
      "cell_type": "code",
      "source": [
        "x_train,y_train=X[:train_split],y[:train_split]\n",
        "x_test,y_test=X[train_split:],y[train_split:]\n",
        "\n",
        "len(x_train),len(y_train),len(x_test),len(y_test)\n",
        "\n"
      ],
      "metadata": {
        "colab": {
          "base_uri": "https://localhost:8080/"
        },
        "id": "8twJCFw4kWkl",
        "outputId": "3c1663cf-ed2d-4433-9f2e-f9369fcd2a59"
      },
      "execution_count": 6,
      "outputs": [
        {
          "output_type": "execute_result",
          "data": {
            "text/plain": [
              "(40, 40, 10, 10)"
            ]
          },
          "metadata": {},
          "execution_count": 6
        }
      ]
    },
    {
      "cell_type": "markdown",
      "source": [
        "### visualise data\n"
      ],
      "metadata": {
        "id": "IQolb2TWlM2F"
      }
    },
    {
      "cell_type": "code",
      "source": [
        "def plot_predictions(train_data=x_train,\n",
        "                     train_labels=y_train,\n",
        "                     test_data=x_test,\n",
        "                     test_labels=y_test,\n",
        "                     predictions=None\n",
        "                     ):\n",
        "  plt.figure(figsize=(10,7))\n",
        "# training data\n",
        "  plt.scatter(train_data,train_labels,c=\"b\",s=4,label=\"Training data\")\n",
        "\n",
        "  plt.scatter(test_data,test_labels,c=\"g\",s=4,label=\"Testing  data\")\n",
        "\n",
        "  if predictions is not None:\n",
        "    # ploat the predictions if they exist\n",
        "    plt.scatter(test_data,predictions,c=\"r\",s=4,label=\"predictions\")\n",
        "  plt.legend(prop={\"size\":12})"
      ],
      "metadata": {
        "id": "17zODk4blJk7"
      },
      "execution_count": 7,
      "outputs": []
    },
    {
      "cell_type": "code",
      "source": [
        "plot_predictions()"
      ],
      "metadata": {
        "colab": {
          "base_uri": "https://localhost:8080/",
          "height": 471
        },
        "id": "SP0PZzasmlN0",
        "outputId": "cc51c6f8-2f93-4d55-e2f3-fdaea582083f"
      },
      "execution_count": 8,
      "outputs": [
        {
          "output_type": "display_data",
          "data": {
            "text/plain": [
              "<Figure size 1000x700 with 1 Axes>"
            ],
            "image/png": "[encoded data removed]"
          },
          "metadata": {}
        }
      ]
    },
    {
      "cell_type": "code",
      "source": [],
      "metadata": {
        "id": "3iH8ZT9vmo84"
      },
      "execution_count": 8,
      "outputs": []
    },
    {
      "cell_type": "markdown",
      "source": [
        "### 2. Build  model\n",
        "\n",
        "what our model does:\n",
        "* start with random values (weight & bias)\n",
        "*Look at training data and adjust the random values to better represent the ideal values (the weight and bias values we used to create the data)\n",
        "\n",
        "How does it do so?\n",
        "1. gradiant desent\n",
        "2. backpropogation"
      ],
      "metadata": {
        "id": "nsSH8fJMsyfT"
      }
    },
    {
      "cell_type": "code",
      "source": [
        "from torch import nn\n",
        "\n",
        "class LinearRegressionModel(nn.Module): #-> nn is base class for all neural network modules\n",
        "  def __init__(self):\n",
        "    super().__init__()\n",
        "    self.weights = nn.Parameter(torch.randn(1,\n",
        "                                            requires_grad=True,\n",
        "                                            dtype=torch.float32))\n",
        "    self.bias=nn.Parameter(torch.randn(1,requires_grad=True,\n",
        "                                       dtype=torch.float32))\n",
        "\n",
        "  #Forward method to define the computation in the model\n",
        "  def forward(self,x: torch.Tensor)->torch.Tensor:  #->x is input data\n",
        "    return self.weights * x + self.bias\n"
      ],
      "metadata": {
        "id": "gfljOf55s4qW"
      },
      "execution_count": 9,
      "outputs": []
    },
    {
      "cell_type": "markdown",
      "source": [
        " ### checking the contents of our pytorch model\n",
        "\n",
        "\n",
        " so we can checkout our model parameters or what's inside our model using .parameters()\n"
      ],
      "metadata": {
        "id": "z_v9apym1oJ7"
      }
    },
    {
      "cell_type": "code",
      "source": [
        "torch.manual_seed(42) #create random seed\n",
        "\n",
        "#create an instance of the model\n",
        "model_0 = LinearRegressionModel()\n",
        "\n",
        "#check out parameters\n",
        "list(model_0.parameters())\n"
      ],
      "metadata": {
        "colab": {
          "base_uri": "https://localhost:8080/"
        },
        "id": "vnqjor5VzYfi",
        "outputId": "30ddba73-c0de-4f2f-d4a6-ada059cf3508"
      },
      "execution_count": 10,
      "outputs": [
        {
          "output_type": "execute_result",
          "data": {
            "text/plain": [
              "[Parameter containing:\n",
              " tensor([0.3367], requires_grad=True),\n",
              " Parameter containing:\n",
              " tensor([0.1288], requires_grad=True)]"
            ]
          },
          "metadata": {},
          "execution_count": 10
        }
      ]
    },
    {
      "cell_type": "code",
      "source": [
        "# lsit named parametes\n",
        "model_0.state_dict()"
      ],
      "metadata": {
        "colab": {
          "base_uri": "https://localhost:8080/"
        },
        "id": "iHY0ZCMy1bF_",
        "outputId": "3ad70030-f207-4e13-831b-f26c319fbaf6"
      },
      "execution_count": 11,
      "outputs": [
        {
          "output_type": "execute_result",
          "data": {
            "text/plain": [
              "OrderedDict([('weights', tensor([0.3367])), ('bias', tensor([0.1288]))])"
            ]
          },
          "metadata": {},
          "execution_count": 11
        }
      ]
    },
    {
      "cell_type": "code",
      "source": [
        "weight, bias"
      ],
      "metadata": {
        "colab": {
          "base_uri": "https://localhost:8080/"
        },
        "id": "FnSwtaR63Cf9",
        "outputId": "bcdc56ac-56b9-4f0c-fbab-f1d093450bf4"
      },
      "execution_count": 12,
      "outputs": [
        {
          "output_type": "execute_result",
          "data": {
            "text/plain": [
              "(0.7, 0.3)"
            ]
          },
          "metadata": {},
          "execution_count": 12
        }
      ]
    },
    {
      "cell_type": "markdown",
      "source": [
        "### Making predication using torch.inference_mode()\n",
        "\n",
        "To check our model's predictive power let's see how well it predicts y_test based on x_test\n",
        "\n",
        "when we pass data through our model ,it's going to run it through the forward() method"
      ],
      "metadata": {
        "id": "MlUH0g1E3bHI"
      }
    },
    {
      "cell_type": "code",
      "source": [
        "# makke predictions with model\n",
        "with torch.inference_mode():#inference mode shut the grad_fn . becasue we are not doing training we dont need gradiant.\n",
        "  y_preds = model_0(x_test)\n",
        "\n",
        "y_preds"
      ],
      "metadata": {
        "colab": {
          "base_uri": "https://localhost:8080/"
        },
        "id": "2XT8srwC3KRC",
        "outputId": "5e9be0d3-40ed-4b0b-a011-77001f8866a4"
      },
      "execution_count": 13,
      "outputs": [
        {
          "output_type": "execute_result",
          "data": {
            "text/plain": [
              "tensor([[0.3982],\n",
              "        [0.4049],\n",
              "        [0.4116],\n",
              "        [0.4184],\n",
              "        [0.4251],\n",
              "        [0.4318],\n",
              "        [0.4386],\n",
              "        [0.4453],\n",
              "        [0.4520],\n",
              "        [0.4588]])"
            ]
          },
          "metadata": {},
          "execution_count": 13
        }
      ]
    },
    {
      "cell_type": "code",
      "source": [
        "y_test\n"
      ],
      "metadata": {
        "colab": {
          "base_uri": "https://localhost:8080/"
        },
        "id": "M8TeE0AE4PSr",
        "outputId": "3689cfb3-2118-493e-8551-c88c8791ed8e"
      },
      "execution_count": 14,
      "outputs": [
        {
          "output_type": "execute_result",
          "data": {
            "text/plain": [
              "tensor([[0.8600],\n",
              "        [0.8740],\n",
              "        [0.8880],\n",
              "        [0.9020],\n",
              "        [0.9160],\n",
              "        [0.9300],\n",
              "        [0.9440],\n",
              "        [0.9580],\n",
              "        [0.9720],\n",
              "        [0.9860]])"
            ]
          },
          "metadata": {},
          "execution_count": 14
        }
      ]
    },
    {
      "cell_type": "code",
      "source": [
        "plot_predictions(predictions=y_preds )"
      ],
      "metadata": {
        "colab": {
          "base_uri": "https://localhost:8080/",
          "height": 471
        },
        "id": "lCkittn240_e",
        "outputId": "b94f5630-519b-4b27-f707-2e654db91c70"
      },
      "execution_count": 15,
      "outputs": [
        {
          "output_type": "display_data",
          "data": {
            "text/plain": [
              "<Figure size 1000x700 with 1 Axes>"
            ],
            "image/png": "[encoded data removed]"
          },
          "metadata": {}
        }
      ]
    },
    {
      "cell_type": "markdown",
      "source": [
        "### 3.Train Model\n",
        "\n",
        "The whole idea of training is for a model to move from some *unknown* parameters to some *known* parameters.\n",
        "\n",
        "or in other words from a poor representation of the data to a better representatin of the data\n",
        "\n",
        "one way to measure how poor or how wrong your models predictions are is to use a loss function.\n",
        "\n",
        "* Note : loss function may also be called cost function or criterion\n",
        "* **Loss function:** mesuaremnt of how far prediction from actual value\n",
        "\n",
        "* **Optimizer:** Takes into account the loss of a model;s parameter and adjusts the model;s parameter to improve the loss function  \n",
        "\n",
        "And specifically for pytorch we need\n",
        "->training loop\n",
        "->testing loop"
      ],
      "metadata": {
        "id": "EZu1koJe544j"
      }
    },
    {
      "cell_type": "code",
      "source": [
        "model_0.state_dict()"
      ],
      "metadata": {
        "id": "q15PkHYs5Agp",
        "colab": {
          "base_uri": "https://localhost:8080/"
        },
        "outputId": "ad5db10a-0cae-4037-b15c-00ffd8ac5ae4"
      },
      "execution_count": 16,
      "outputs": [
        {
          "output_type": "execute_result",
          "data": {
            "text/plain": [
              "OrderedDict([('weights', tensor([0.3367])), ('bias', tensor([0.1288]))])"
            ]
          },
          "metadata": {},
          "execution_count": 16
        }
      ]
    },
    {
      "cell_type": "code",
      "source": [
        "# setup loss function\n",
        "\n",
        "loss_fn=nn.L1Loss()\n",
        "\n",
        "# setup an optimizer (stochastic gradient descent)\n",
        "optimizer=torch.optim.SGD(params=model_0.parameters(),lr=0.01) #lr=learning rate =possibly the most important hyperparameter you can set\n",
        "\n",
        "\n",
        "\n",
        "\n"
      ],
      "metadata": {
        "id": "fAiQ6whB8HoJ"
      },
      "execution_count": 17,
      "outputs": []
    },
    {
      "cell_type": "markdown",
      "source": [
        "### Building a training loop and testing loop in pytorch\n",
        "\n",
        "A couple of things we need in train loop:\n",
        "0. Loop through the data\n",
        "1. forward pass (this involves data moving through our model's `forward()` functions\n",
        "2. calculate the loss (compare forward pass predictions to ground truth labels)\n",
        "3. optimizer zero grad\n",
        "4. Loss backward - move backwardthrough the network to calculate the gradients of each of the parameters of our model with respect to the loss.(**backpropagation**)\n",
        "5. Optimizer step - use the optimizer to adjuct our model's parameters to try and improve the loss (**gradiant decent**)\n",
        "\n"
      ],
      "metadata": {
        "id": "bKIh7ORDA2om"
      }
    },
    {
      "cell_type": "code",
      "source": [
        "\n",
        "\n",
        "\n",
        "torch.manual_seed(42)\n",
        "# epoch is one loop through the data.. (this is a hyperparamer because we've set it by us)\n",
        "epochs=200\n",
        "\n",
        "epoch_count=[]\n",
        "loss_values=[]\n",
        "test_loss_values=[]\n",
        "\n",
        "\n",
        "# 0. Loop through the data\n",
        "for epoch in range(epochs):\n",
        "  # set the model to training mode\n",
        "  model_0.train()  #train mode in pytorch sets all parameter that require gradients to require gradients\n",
        "\n",
        "\n",
        "  # 1. Forward pass\n",
        "  y_pred=model_0(x_train)\n",
        "\n",
        "  #2. calculate loss\n",
        "  loss= loss_fn(y_pred,y_train)\n",
        "  # print(loss)\n",
        "  #3. optimizer zero grad\n",
        "  optimizer.zero_grad()\n",
        "\n",
        "  # 4. perform backprapogation on the loss with respect to the parameters of the model\n",
        "  loss.backward()\n",
        "\n",
        "  # 5 . step the optimizer\n",
        "  optimizer.step() #by default how the optimizer chages will acculumate throgh the loop so.. we have to zero them above in step 3\n",
        "\n",
        "\n",
        "  model_0.eval()#turns off gradient traking which is not need for testing (dropout/batchnom layes)\n",
        "\n",
        "  with torch.inference_mode():#this turns of gradient tracking & a couple more things behind the scens\n",
        "    # 1. Do the Froward pass\n",
        "    test_pred=model_0(x_test)\n",
        "\n",
        "    # 2. calculate the loss\n",
        "    test_loss=loss_fn(test_pred,y_test)\n",
        "  if epoch%10==0:\n",
        "    epoch_count.append(epoch)\n",
        "    loss_values.append(loss)\n",
        "    test_loss_values.append(test_loss)\n",
        "    print(f\"Epoch: {epoch} | Loss: {loss} | Test loss: {test_loss}\")\n",
        "\n",
        "    #\n",
        "\n"
      ],
      "metadata": {
        "id": "mFtARjAlCOOX",
        "colab": {
          "base_uri": "https://localhost:8080/"
        },
        "outputId": "ed21b4cd-8a50-4d4e-f4b9-239834ded8f0"
      },
      "execution_count": 18,
      "outputs": [
        {
          "output_type": "stream",
          "name": "stdout",
          "text": [
            "Epoch: 0 | Loss: 0.31288138031959534 | Test loss: 0.48106518387794495\n",
            "Epoch: 10 | Loss: 0.1976713240146637 | Test loss: 0.3463551998138428\n",
            "Epoch: 20 | Loss: 0.08908725529909134 | Test loss: 0.21729660034179688\n",
            "Epoch: 30 | Loss: 0.053148526698350906 | Test loss: 0.14464017748832703\n",
            "Epoch: 40 | Loss: 0.04543796554207802 | Test loss: 0.11360953003168106\n",
            "Epoch: 50 | Loss: 0.04167863354086876 | Test loss: 0.09919948130846024\n",
            "Epoch: 60 | Loss: 0.03818932920694351 | Test loss: 0.08886633068323135\n",
            "Epoch: 70 | Loss: 0.03476089984178543 | Test loss: 0.0805937647819519\n",
            "Epoch: 80 | Loss: 0.03132382780313492 | Test loss: 0.07232122868299484\n",
            "Epoch: 90 | Loss: 0.02788739837706089 | Test loss: 0.06473556160926819\n",
            "Epoch: 100 | Loss: 0.024458957836031914 | Test loss: 0.05646304413676262\n",
            "Epoch: 110 | Loss: 0.021020207554101944 | Test loss: 0.04819049686193466\n",
            "Epoch: 120 | Loss: 0.01758546568453312 | Test loss: 0.04060482233762741\n",
            "Epoch: 130 | Loss: 0.014155393466353416 | Test loss: 0.03233227878808975\n",
            "Epoch: 140 | Loss: 0.010716589167714119 | Test loss: 0.024059748277068138\n",
            "Epoch: 150 | Loss: 0.0072835334576666355 | Test loss: 0.016474086791276932\n",
            "Epoch: 160 | Loss: 0.0038517764769494534 | Test loss: 0.008201557211577892\n",
            "Epoch: 170 | Loss: 0.008932482451200485 | Test loss: 0.005023092031478882\n",
            "Epoch: 180 | Loss: 0.008932482451200485 | Test loss: 0.005023092031478882\n",
            "Epoch: 190 | Loss: 0.008932482451200485 | Test loss: 0.005023092031478882\n"
          ]
        }
      ]
    },
    {
      "cell_type": "code",
      "source": [
        "# plot the loss curves\n",
        "import numpy as np\n",
        "plt.plot(epoch_count,np.array(torch.tensor(loss_values).numpy()),label=\"Train loss\")\n",
        "plt.plot(epoch_count,test_loss_values,label=\"Test loss\")\n",
        "plt.title(\"Training and test loss curves\")\n",
        "plt.ylabel(\"Loss\")\n",
        "plt.xlabel(\"Epoch\")\n",
        "plt.legend()"
      ],
      "metadata": {
        "colab": {
          "base_uri": "https://localhost:8080/",
          "height": 489
        },
        "id": "AGF7u6bxK3D8",
        "outputId": "4534d0d8-db26-4fb8-9bef-1e2644939765"
      },
      "execution_count": 19,
      "outputs": [
        {
          "output_type": "execute_result",
          "data": {
            "text/plain": [
              "<matplotlib.legend.Legend at 0x7bc057e17e50>"
            ]
          },
          "metadata": {},
          "execution_count": 19
        },
        {
          "output_type": "display_data",
          "data": {
            "text/plain": [
              "<Figure size 640x480 with 1 Axes>"
            ],
            "image/png": "[encoded data removed]"
          },
          "metadata": {}
        }
      ]
    },
    {
      "cell_type": "code",
      "source": [
        "with torch.inference_mode():\n",
        "  y_preds_new=model_0(x_test)\n",
        "\n",
        "plot_predictions(predictions=y_preds);\n"
      ],
      "metadata": {
        "colab": {
          "base_uri": "https://localhost:8080/",
          "height": 471
        },
        "id": "CVyisGX_K_Jf",
        "outputId": "d3bca9e0-4030-4bbc-fe26-de4a50b3d820"
      },
      "execution_count": 20,
      "outputs": [
        {
          "output_type": "display_data",
          "data": {
            "text/plain": [
              "<Figure size 1000x700 with 1 Axes>"
            ],
            "image/png": "[encoded data removed]"
          },
          "metadata": {}
        }
      ]
    },
    {
      "cell_type": "code",
      "source": [
        "plot_predictions(predictions=y_preds_new);"
      ],
      "metadata": {
        "colab": {
          "base_uri": "https://localhost:8080/",
          "height": 471
        },
        "id": "i7H8shiPMNs6",
        "outputId": "187b2f3e-b266-45eb-8a06-15fe4d58ce39"
      },
      "execution_count": 21,
      "outputs": [
        {
          "output_type": "display_data",
          "data": {
            "text/plain": [
              "<Figure size 1000x700 with 1 Axes>"
            ],
            "image/png": "[encoded data removed]"
          },
          "metadata": {}
        }
      ]
    },
    {
      "cell_type": "markdown",
      "source": [
        "###Saving a model in Pytorch\n",
        "\n",
        "There are three main methods you should about for saving and loading models in PyTorch\n",
        "\n",
        "1. `torch.save()` - allows you save PyTorch object in python's pickle format\n",
        "2.`torch.load()` - allows you load a saved PyTorch object\n",
        "3. `torch.nn.Module.load_state_dict()` - this allows to load a model's saved state dictionary\n",
        "\n",
        "\n"
      ],
      "metadata": {
        "id": "baRfsmjRMb6H"
      }
    },
    {
      "cell_type": "code",
      "source": [
        "# saving our Pytorch model\n",
        "!pip install pathlib2\n",
        "from pathlib import Path\n",
        "\n",
        "\n",
        "# 1. Create models directory\n",
        "\n",
        "MODEL_PATH=Path(\"models\")\n",
        "MODEL_PATH.mkdir(parents=True,exist_ok=True)\n",
        "\n",
        "# 2. create model save path\n",
        "MODEL_NAME=\"01_pytorch_workflow_mode_0.pth\"\n",
        "MODEL_SAVE_PATH= MODEL_PATH / MODEL_NAME\n",
        "\n",
        "# 3. save the model state dict\n",
        "print(f\"saving model to : {MODEL_SAVE_PATH}\")\n",
        "torch.save(obj=model_0.state_dict(),f=MODEL_SAVE_PATH)\n",
        "\n"
      ],
      "metadata": {
        "colab": {
          "base_uri": "https://localhost:8080/"
        },
        "id": "_MwW41djY2py",
        "outputId": "05a1b22b-a997-4f7f-8bea-c0924db52635"
      },
      "execution_count": 22,
      "outputs": [
        {
          "output_type": "stream",
          "name": "stdout",
          "text": [
            "Collecting pathlib2\n",
            "  Downloading pathlib2-2.3.7.post1-py2.py3-none-any.whl (18 kB)\n",
            "Requirement already satisfied: six in /usr/local/lib/python3.10/dist-packages (from pathlib2) (1.16.0)\n",
            "Installing collected packages: pathlib2\n",
            "Successfully installed pathlib2-2.3.7.post1\n",
            "saving model to : models/01_pytorch_workflow_mode_0.pth\n"
          ]
        }
      ]
    },
    {
      "cell_type": "markdown",
      "source": [
        "## loading python model\n",
        "\n",
        "since we saved our model's `state_dict()` rathen the entire model, we'll create a new instance of our model class and load the saved `state_dict()` into that.\n"
      ],
      "metadata": {
        "id": "DEGXcBIoZpdU"
      }
    },
    {
      "cell_type": "code",
      "source": [
        "# To load in a saved state_dict we have to instantiate a new instance of our model class\n",
        "loaded_model_0=LinearRegressionModel()\n",
        "\n",
        "loaded_model_0.load_state_dict(torch.load(f=MODEL_SAVE_PATH))\n",
        "\n"
      ],
      "metadata": {
        "id": "I0gjZtnCoLdS",
        "colab": {
          "base_uri": "https://localhost:8080/"
        },
        "outputId": "2587fa2c-f717-47a6-ded4-82f9f7a2503e"
      },
      "execution_count": 23,
      "outputs": [
        {
          "output_type": "execute_result",
          "data": {
            "text/plain": [
              "<All keys matched successfully>"
            ]
          },
          "metadata": {},
          "execution_count": 23
        }
      ]
    },
    {
      "cell_type": "code",
      "source": [
        "loaded_model_0.state_dict()\n"
      ],
      "metadata": {
        "colab": {
          "base_uri": "https://localhost:8080/"
        },
        "id": "NbWpetyrP0cG",
        "outputId": "7926161d-1078-476f-fe7c-37423244b52e"
      },
      "execution_count": 24,
      "outputs": [
        {
          "output_type": "execute_result",
          "data": {
            "text/plain": [
              "OrderedDict([('weights', tensor([0.6990])), ('bias', tensor([0.3093]))])"
            ]
          },
          "metadata": {},
          "execution_count": 24
        }
      ]
    },
    {
      "cell_type": "code",
      "source": [
        "# Make some predictions with our loaded model\n",
        "loaded_model_0.eval()\n",
        "with torch.inference_mode():\n",
        "  loaded_model_preds=loaded_model_0(x_test)\n",
        "\n",
        "loaded_model_preds"
      ],
      "metadata": {
        "colab": {
          "base_uri": "https://localhost:8080/"
        },
        "id": "f8Ukj9TRQLLS",
        "outputId": "289e2212-b70b-49e7-a348-b7d5318b4f1c"
      },
      "execution_count": 25,
      "outputs": [
        {
          "output_type": "execute_result",
          "data": {
            "text/plain": [
              "tensor([[0.8685],\n",
              "        [0.8825],\n",
              "        [0.8965],\n",
              "        [0.9105],\n",
              "        [0.9245],\n",
              "        [0.9384],\n",
              "        [0.9524],\n",
              "        [0.9664],\n",
              "        [0.9804],\n",
              "        [0.9944]])"
            ]
          },
          "metadata": {},
          "execution_count": 25
        }
      ]
    },
    {
      "cell_type": "code",
      "source": [
        "# make some models pres\n",
        "model_0.eval()\n",
        "with torch.inference_mode():\n",
        "  y_preds=model_0(x_test)\n",
        "\n",
        "y_preds"
      ],
      "metadata": {
        "colab": {
          "base_uri": "https://localhost:8080/"
        },
        "id": "7-vym6kpQmMQ",
        "outputId": "981a327f-5073-42e2-e66f-f29256fedd69"
      },
      "execution_count": 26,
      "outputs": [
        {
          "output_type": "execute_result",
          "data": {
            "text/plain": [
              "tensor([[0.8685],\n",
              "        [0.8825],\n",
              "        [0.8965],\n",
              "        [0.9105],\n",
              "        [0.9245],\n",
              "        [0.9384],\n",
              "        [0.9524],\n",
              "        [0.9664],\n",
              "        [0.9804],\n",
              "        [0.9944]])"
            ]
          },
          "metadata": {},
          "execution_count": 26
        }
      ]
    },
    {
      "cell_type": "code",
      "source": [
        "y_preds==loaded_model_preds"
      ],
      "metadata": {
        "colab": {
          "base_uri": "https://localhost:8080/"
        },
        "id": "q4lM5B_PQgsQ",
        "outputId": "21ea0b1b-1983-4334-9eb1-d529e6b30e39"
      },
      "execution_count": 27,
      "outputs": [
        {
          "output_type": "execute_result",
          "data": {
            "text/plain": [
              "tensor([[True],\n",
              "        [True],\n",
              "        [True],\n",
              "        [True],\n",
              "        [True],\n",
              "        [True],\n",
              "        [True],\n",
              "        [True],\n",
              "        [True],\n",
              "        [True]])"
            ]
          },
          "metadata": {},
          "execution_count": 27
        }
      ]
    },
    {
      "cell_type": "markdown",
      "source": [
        "# 6. Putting it all together\n",
        "\n"
      ],
      "metadata": {
        "id": "riehMLcqRCpw"
      }
    },
    {
      "cell_type": "code",
      "source": [
        "import torch\n",
        "from torch import nn\n",
        "import matplotlib.pyplot as plt\n",
        "\n",
        "torch.__version__\n"
      ],
      "metadata": {
        "colab": {
          "base_uri": "https://localhost:8080/",
          "height": 36
        },
        "id": "U7li_u7PSIoD",
        "outputId": "32dadf9f-995e-4346-bd9c-93fa44582864"
      },
      "execution_count": 28,
      "outputs": [
        {
          "output_type": "execute_result",
          "data": {
            "text/plain": [
              "'2.1.0+cu121'"
            ],
            "application/vnd.google.colaboratory.intrinsic+json": {
              "type": "string"
            }
          },
          "metadata": {},
          "execution_count": 28
        }
      ]
    },
    {
      "cell_type": "markdown",
      "source": [
        "Create device-agnostic code\n",
        "\n",
        "This means if we've got access to a GPU,our code will use it (for potentially faster computing).\n",
        "\n",
        "if no GPU is available the code will default to using CPU"
      ],
      "metadata": {
        "id": "xja3415sSWZI"
      }
    },
    {
      "cell_type": "code",
      "source": [
        "# setup device agnostic code\n",
        "\n",
        "device=\"cuda\" if torch.cuda.is_available() else \"cpu\"\n",
        "print(f\"Using device:{device}\")\n"
      ],
      "metadata": {
        "colab": {
          "base_uri": "https://localhost:8080/"
        },
        "id": "-tU7CTsESqHJ",
        "outputId": "e63700bd-49ce-49ac-a1b4-f373986b1140"
      },
      "execution_count": 29,
      "outputs": [
        {
          "output_type": "stream",
          "name": "stdout",
          "text": [
            "Using device:cuda\n"
          ]
        }
      ]
    },
    {
      "cell_type": "markdown",
      "source": [
        "\n",
        "#6.1 Data"
      ],
      "metadata": {
        "id": "sUZOBUDbS77O"
      }
    },
    {
      "cell_type": "code",
      "source": [
        "# create some data using the linear regression formula\n",
        "weight=0.8\n",
        "bias=0.2\n",
        "\n",
        "# Create range values\n",
        "start=0\n",
        "end=1\n",
        "step=0.02\n",
        "\n",
        "# create x and Y (features and label)\n",
        "X=torch.arange(start,end,step).unsqueeze(dim=1)\n",
        "y=weight * X\n",
        "X[:10],y[:10]"
      ],
      "metadata": {
        "colab": {
          "base_uri": "https://localhost:8080/"
        },
        "id": "qtpH55H4TaJ7",
        "outputId": "056cd95d-deb5-4c57-9a02-75b609a3597e"
      },
      "execution_count": 30,
      "outputs": [
        {
          "output_type": "execute_result",
          "data": {
            "text/plain": [
              "(tensor([[0.0000],\n",
              "         [0.0200],\n",
              "         [0.0400],\n",
              "         [0.0600],\n",
              "         [0.0800],\n",
              "         [0.1000],\n",
              "         [0.1200],\n",
              "         [0.1400],\n",
              "         [0.1600],\n",
              "         [0.1800]]),\n",
              " tensor([[0.0000],\n",
              "         [0.0160],\n",
              "         [0.0320],\n",
              "         [0.0480],\n",
              "         [0.0640],\n",
              "         [0.0800],\n",
              "         [0.0960],\n",
              "         [0.1120],\n",
              "         [0.1280],\n",
              "         [0.1440]]))"
            ]
          },
          "metadata": {},
          "execution_count": 30
        }
      ]
    },
    {
      "cell_type": "code",
      "source": [
        "# split data\n",
        "train_split =int (0.8 * len(X))\n",
        "X_train,y_train = X[:train_split],y[:train_split]\n",
        "X_test,y_test = X[train_split:],y[train_split:]\n",
        "len(X_train),len(y_train),len(X_test),len(y_test)\n"
      ],
      "metadata": {
        "colab": {
          "base_uri": "https://localhost:8080/"
        },
        "id": "w_EOL3S1UG3c",
        "outputId": "2dd5246e-709f-4e47-af61-e68ca84f4c3c"
      },
      "execution_count": 32,
      "outputs": [
        {
          "output_type": "execute_result",
          "data": {
            "text/plain": [
              "(40, 40, 10, 10)"
            ]
          },
          "metadata": {},
          "execution_count": 32
        }
      ]
    },
    {
      "cell_type": "code",
      "source": [
        "plot_predictions(X_train,y_train,X_test,y_test)"
      ],
      "metadata": {
        "colab": {
          "base_uri": "https://localhost:8080/",
          "height": 471
        },
        "id": "AzV4LxvxUmhp",
        "outputId": "3378593f-b4ad-4cb7-db99-d1e6052dbb6a"
      },
      "execution_count": 33,
      "outputs": [
        {
          "output_type": "display_data",
          "data": {
            "text/plain": [
              "<Figure size 1000x700 with 1 Axes>"
            ],
            "image/png": "[encoded data removed]"
          },
          "metadata": {}
        }
      ]
    },
    {
      "cell_type": "markdown",
      "source": [
        "# 6.2 Building Pytroch Linear model"
      ],
      "metadata": {
        "id": "l0ZojHdKU3K1"
      }
    },
    {
      "cell_type": "code",
      "source": [
        "# Create a linear model by subclassing nn.Module\n",
        "class LinearRegressionModelV2(nn.Module):\n",
        "  def __init__(self):\n",
        "    super().__init__()\n",
        "    # use nn.Linear() for creating the model parameters , also called: linear transform , probing layer, fully connected layer, dense layer\n",
        "    self.linear_layer=nn.Linear(in_features=1,out_features=1)\n",
        "\n",
        "  def forward(self,x:torch.Tensor)-> torch.Tensor:\n",
        "    return self.linear_layer(x)\n",
        "\n",
        "\n",
        "# set the manual seed\n",
        "torch.manual_seed(42)\n",
        "model_1=LinearRegressionModelV2()\n",
        "model_1,model_1.state_dict()"
      ],
      "metadata": {
        "colab": {
          "base_uri": "https://localhost:8080/"
        },
        "id": "CPs7y9IDVQef",
        "outputId": "70225437-b4d5-4615-8003-1490ed4c6d21"
      },
      "execution_count": 35,
      "outputs": [
        {
          "output_type": "execute_result",
          "data": {
            "text/plain": [
              "(LinearRegressionModelV2(\n",
              "   (linear_layer): Linear(in_features=1, out_features=1, bias=True)\n",
              " ),\n",
              " OrderedDict([('linear_layer.weight', tensor([[0.7645]])),\n",
              "              ('linear_layer.bias', tensor([0.8300]))]))"
            ]
          },
          "metadata": {},
          "execution_count": 35
        }
      ]
    },
    {
      "cell_type": "code",
      "source": [],
      "metadata": {
        "id": "_o278EIkXRMC"
      },
      "execution_count": null,
      "outputs": []
    }
  ]
}