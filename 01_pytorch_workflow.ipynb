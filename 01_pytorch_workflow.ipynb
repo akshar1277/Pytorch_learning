{
  "nbformat": 4,
  "nbformat_minor": 0,
  "metadata": {
    "colab": {
      "provenance": [],
      "authorship_tag": "ABX9TyOMm2Ef59MMoISuYkN57DVp",
      "include_colab_link": true
    },
    "kernelspec": {
      "name": "python3",
      "display_name": "Python 3"
    },
    "language_info": {
      "name": "python"
    }
  },
  "cells": [
    {
      "cell_type": "markdown",
      "metadata": {
        "id": "view-in-github",
        "colab_type": "text"
      },
      "source": [
        "<a href=\"https://colab.research.google.com/github/akshar1277/Pytorch_learning/blob/main/01_pytorch_workflow.ipynb\" target=\"_parent\"><img src=\"https://colab.research.google.com/assets/colab-badge.svg\" alt=\"Open In Colab\"/></a>"
      ]
    },
    {
      "cell_type": "markdown",
      "source": [
        "\n",
        "### Pytorch workflow\n",
        "\n",
        "\n",
        "\n",
        "\n"
      ],
      "metadata": {
        "id": "V0FV-MjFdLVQ"
      }
    },
    {
      "cell_type": "code",
      "execution_count": 1,
      "metadata": {
        "id": "Hp9zxTmycTD4"
      },
      "outputs": [],
      "source": [
        "what_were_covering={\n",
        "    1:'data preapare and load',\n",
        "    2:'build model',\n",
        "    3:'fitting the model to data(training)',\n",
        "    4:'making predictions and evaluting a model',\n",
        "    5:'saving and loading a model',\n",
        "    6:'putting it all together'\n",
        "}"
      ]
    },
    {
      "cell_type": "code",
      "source": [
        "import torch\n",
        "from torch import nn\n",
        "import matplotlib.pyplot as plt\n",
        "\n",
        "# check pytorch verison\n",
        "torch.__version__\n"
      ],
      "metadata": {
        "id": "wRYfdgXAdQnU",
        "colab": {
          "base_uri": "https://localhost:8080/",
          "height": 36
        },
        "outputId": "51c12e36-2341-4675-8100-06c0405dbbe8"
      },
      "execution_count": 2,
      "outputs": [
        {
          "output_type": "execute_result",
          "data": {
            "text/plain": [
              "'2.1.0+cu121'"
            ],
            "application/vnd.google.colaboratory.intrinsic+json": {
              "type": "string"
            }
          },
          "metadata": {},
          "execution_count": 2
        }
      ]
    },
    {
      "cell_type": "markdown",
      "source": [
        "### 1.Data (preparing and loading)\n",
        "\n",
        "Data can be almost anything in machine learning\n",
        "\n",
        "* Excel spreadsheet\n",
        "* Images of any kind\n",
        "* Videos\n",
        "* Audio\n",
        "* DNA\n",
        "* Text\n",
        "\n",
        "Machine learning is a game of two parts:\n",
        "1. Get data into numeraical represantation\n",
        "2. Build pattern from numeriacal data\n",
        "\n",
        "To showcase this let;s create some *known* data using linear regression formula.\n",
        "We'll use a linear regression formula to make a straight line with known parameter\n"
      ],
      "metadata": {
        "id": "Vi13_PGIeSHV"
      }
    },
    {
      "cell_type": "code",
      "source": [
        "# Create *known* parameters\n",
        "weight = 0.7\n",
        "bias = 0.3\n",
        "\n",
        "# Create data\n",
        "start = 0\n",
        "end = 1\n",
        "step = 0.02\n",
        "X = torch.arange(start, end, step).unsqueeze(dim=1)\n",
        "y = weight * X + bias\n",
        "\n",
        "X, y\n"
      ],
      "metadata": {
        "colab": {
          "base_uri": "https://localhost:8080/"
        },
        "id": "Ts6Nx5BJeEtb",
        "outputId": "cd1c3c93-3115-4b00-a627-8c11fa007cdb"
      },
      "execution_count": 3,
      "outputs": [
        {
          "output_type": "execute_result",
          "data": {
            "text/plain": [
              "(tensor([[0.0000],\n",
              "         [0.0200],\n",
              "         [0.0400],\n",
              "         [0.0600],\n",
              "         [0.0800],\n",
              "         [0.1000],\n",
              "         [0.1200],\n",
              "         [0.1400],\n",
              "         [0.1600],\n",
              "         [0.1800],\n",
              "         [0.2000],\n",
              "         [0.2200],\n",
              "         [0.2400],\n",
              "         [0.2600],\n",
              "         [0.2800],\n",
              "         [0.3000],\n",
              "         [0.3200],\n",
              "         [0.3400],\n",
              "         [0.3600],\n",
              "         [0.3800],\n",
              "         [0.4000],\n",
              "         [0.4200],\n",
              "         [0.4400],\n",
              "         [0.4600],\n",
              "         [0.4800],\n",
              "         [0.5000],\n",
              "         [0.5200],\n",
              "         [0.5400],\n",
              "         [0.5600],\n",
              "         [0.5800],\n",
              "         [0.6000],\n",
              "         [0.6200],\n",
              "         [0.6400],\n",
              "         [0.6600],\n",
              "         [0.6800],\n",
              "         [0.7000],\n",
              "         [0.7200],\n",
              "         [0.7400],\n",
              "         [0.7600],\n",
              "         [0.7800],\n",
              "         [0.8000],\n",
              "         [0.8200],\n",
              "         [0.8400],\n",
              "         [0.8600],\n",
              "         [0.8800],\n",
              "         [0.9000],\n",
              "         [0.9200],\n",
              "         [0.9400],\n",
              "         [0.9600],\n",
              "         [0.9800]]),\n",
              " tensor([[0.3000],\n",
              "         [0.3140],\n",
              "         [0.3280],\n",
              "         [0.3420],\n",
              "         [0.3560],\n",
              "         [0.3700],\n",
              "         [0.3840],\n",
              "         [0.3980],\n",
              "         [0.4120],\n",
              "         [0.4260],\n",
              "         [0.4400],\n",
              "         [0.4540],\n",
              "         [0.4680],\n",
              "         [0.4820],\n",
              "         [0.4960],\n",
              "         [0.5100],\n",
              "         [0.5240],\n",
              "         [0.5380],\n",
              "         [0.5520],\n",
              "         [0.5660],\n",
              "         [0.5800],\n",
              "         [0.5940],\n",
              "         [0.6080],\n",
              "         [0.6220],\n",
              "         [0.6360],\n",
              "         [0.6500],\n",
              "         [0.6640],\n",
              "         [0.6780],\n",
              "         [0.6920],\n",
              "         [0.7060],\n",
              "         [0.7200],\n",
              "         [0.7340],\n",
              "         [0.7480],\n",
              "         [0.7620],\n",
              "         [0.7760],\n",
              "         [0.7900],\n",
              "         [0.8040],\n",
              "         [0.8180],\n",
              "         [0.8320],\n",
              "         [0.8460],\n",
              "         [0.8600],\n",
              "         [0.8740],\n",
              "         [0.8880],\n",
              "         [0.9020],\n",
              "         [0.9160],\n",
              "         [0.9300],\n",
              "         [0.9440],\n",
              "         [0.9580],\n",
              "         [0.9720],\n",
              "         [0.9860]]))"
            ]
          },
          "metadata": {},
          "execution_count": 3
        }
      ]
    },
    {
      "cell_type": "code",
      "source": [
        "len(X),len(y)"
      ],
      "metadata": {
        "colab": {
          "base_uri": "https://localhost:8080/"
        },
        "id": "t58uuy0iiX5-",
        "outputId": "7fc9e361-678f-45bc-9998-1df1e7cebcc0"
      },
      "execution_count": 4,
      "outputs": [
        {
          "output_type": "execute_result",
          "data": {
            "text/plain": [
              "(50, 50)"
            ]
          },
          "metadata": {},
          "execution_count": 4
        }
      ]
    },
    {
      "cell_type": "markdown",
      "source": [
        "###splitting data into training and testing"
      ],
      "metadata": {
        "id": "mpmJdqrFjZuw"
      }
    },
    {
      "cell_type": "code",
      "source": [
        "train_split=int(0.8 * len(X))\n",
        "train_split"
      ],
      "metadata": {
        "colab": {
          "base_uri": "https://localhost:8080/"
        },
        "id": "vL3_fGvpi1PJ",
        "outputId": "b624da09-7f8a-4223-bceb-0d100dd41ee0"
      },
      "execution_count": 5,
      "outputs": [
        {
          "output_type": "execute_result",
          "data": {
            "text/plain": [
              "40"
            ]
          },
          "metadata": {},
          "execution_count": 5
        }
      ]
    },
    {
      "cell_type": "code",
      "source": [
        "x_train,y_train=X[:train_split],y[:train_split]\n",
        "x_test,y_test=X[train_split:],y[train_split:]\n",
        "\n",
        "len(x_train),len(y_train),len(x_test),len(y_test)\n",
        "\n"
      ],
      "metadata": {
        "colab": {
          "base_uri": "https://localhost:8080/"
        },
        "id": "8twJCFw4kWkl",
        "outputId": "40f14518-84b8-4f4e-c88d-f9960f14fb94"
      },
      "execution_count": 6,
      "outputs": [
        {
          "output_type": "execute_result",
          "data": {
            "text/plain": [
              "(40, 40, 10, 10)"
            ]
          },
          "metadata": {},
          "execution_count": 6
        }
      ]
    },
    {
      "cell_type": "markdown",
      "source": [
        "### visualise data\n"
      ],
      "metadata": {
        "id": "IQolb2TWlM2F"
      }
    },
    {
      "cell_type": "code",
      "source": [
        "def plot_predictions(train_data=x_train,\n",
        "                     train_labels=y_train,\n",
        "                     test_data=x_test,\n",
        "                     test_labels=y_test,\n",
        "                     predictions=None\n",
        "                     ):\n",
        "  plt.figure(figsize=(10,7))\n",
        "# training data\n",
        "  plt.scatter(train_data,train_labels,c=\"b\",s=4,label=\"Training data\")\n",
        "\n",
        "  plt.scatter(test_data,test_labels,c=\"g\",s=4,label=\"Testing  data\")\n",
        "\n",
        "  if predictions is not None:\n",
        "    # ploat the predictions if they exist\n",
        "    plt.scatter(test_data,predictions,c=\"r\",s=4,label=\"predictions\")\n",
        "  plt.legend(prop={\"size\":12})"
      ],
      "metadata": {
        "id": "17zODk4blJk7"
      },
      "execution_count": 7,
      "outputs": []
    },
    {
      "cell_type": "code",
      "source": [
        "plot_predictions()"
      ],
      "metadata": {
        "colab": {
          "base_uri": "https://localhost:8080/",
          "height": 471
        },
        "id": "SP0PZzasmlN0",
        "outputId": "87591f75-5ef5-49e3-e6d4-182631bd7d4d"
      },
      "execution_count": 8,
      "outputs": [
        {
          "output_type": "display_data",
          "data": {
            "text/plain": [
              "<Figure size 1000x700 with 1 Axes>"
            ],
            "image/png": "[encoded data removed]"
          },
          "metadata": {}
        }
      ]
    },
    {
      "cell_type": "code",
      "source": [],
      "metadata": {
        "id": "3iH8ZT9vmo84"
      },
      "execution_count": 8,
      "outputs": []
    },
    {
      "cell_type": "markdown",
      "source": [
        "### 2. Build  model\n",
        "\n",
        "what our model does:\n",
        "* start with random values (weight & bias)\n",
        "*Look at training data and adjust the random values to better represent the ideal values (the weight and bias values we used to create the data)\n",
        "\n",
        "How does it do so?\n",
        "1. gradiant desent\n",
        "2. backpropogation"
      ],
      "metadata": {
        "id": "nsSH8fJMsyfT"
      }
    },
    {
      "cell_type": "code",
      "source": [
        "from torch import nn\n",
        "\n",
        "class LinearRegressionModel(nn.Module): #-> nn is base class for all neural network modules\n",
        "  def __init__(self):\n",
        "    super().__init__()\n",
        "    self.weights = nn.Parameter(torch.randn(1,\n",
        "                                            requires_grad=True,\n",
        "                                            dtype=torch.float32))\n",
        "    self.bias=nn.Parameter(torch.randn(1,requires_grad=True,\n",
        "                                       dtype=torch.float32))\n",
        "\n",
        "  #Forward method to define the computation in the model\n",
        "  def forward(self,x: torch.Tensor)->torch.Tensor:  #->x is input data\n",
        "    return self.weights * x + self.bias\n"
      ],
      "metadata": {
        "id": "gfljOf55s4qW"
      },
      "execution_count": 9,
      "outputs": []
    },
    {
      "cell_type": "markdown",
      "source": [
        " ### checking the contents of our pytorch model\n",
        "\n",
        "\n",
        " so we can checkout our model parameters or what's inside our model using .parameters()\n"
      ],
      "metadata": {
        "id": "z_v9apym1oJ7"
      }
    },
    {
      "cell_type": "code",
      "source": [
        "torch.manual_seed(42) #create random seed\n",
        "\n",
        "#create an instance of the model\n",
        "model_0 = LinearRegressionModel()\n",
        "\n",
        "#check out parameters\n",
        "list(model_0.parameters())\n"
      ],
      "metadata": {
        "colab": {
          "base_uri": "https://localhost:8080/"
        },
        "id": "vnqjor5VzYfi",
        "outputId": "fda98491-ab6d-46ba-af94-4612e4910a58"
      },
      "execution_count": 65,
      "outputs": [
        {
          "output_type": "execute_result",
          "data": {
            "text/plain": [
              "[Parameter containing:\n",
              " tensor([0.3367], requires_grad=True),\n",
              " Parameter containing:\n",
              " tensor([0.1288], requires_grad=True)]"
            ]
          },
          "metadata": {},
          "execution_count": 65
        }
      ]
    },
    {
      "cell_type": "code",
      "source": [
        "# lsit named parametes\n",
        "model_0.state_dict()"
      ],
      "metadata": {
        "colab": {
          "base_uri": "https://localhost:8080/"
        },
        "id": "iHY0ZCMy1bF_",
        "outputId": "dc6ed39f-30bb-4fb2-ca23-64a166d65259"
      },
      "execution_count": 11,
      "outputs": [
        {
          "output_type": "execute_result",
          "data": {
            "text/plain": [
              "OrderedDict([('weights', tensor([0.3367])), ('bias', tensor([0.1288]))])"
            ]
          },
          "metadata": {},
          "execution_count": 11
        }
      ]
    },
    {
      "cell_type": "code",
      "source": [
        "weight, bias"
      ],
      "metadata": {
        "colab": {
          "base_uri": "https://localhost:8080/"
        },
        "id": "FnSwtaR63Cf9",
        "outputId": "aa0793ec-e9ee-4b8e-d36d-446c5ec8a14a"
      },
      "execution_count": 12,
      "outputs": [
        {
          "output_type": "execute_result",
          "data": {
            "text/plain": [
              "(0.7, 0.3)"
            ]
          },
          "metadata": {},
          "execution_count": 12
        }
      ]
    },
    {
      "cell_type": "markdown",
      "source": [
        "### Making predication using torch.inference_mode()\n",
        "\n",
        "To check our model's predictive power let's see how well it predicts y_test based on x_test\n",
        "\n",
        "when we pass data through our model ,it's going to run it through the forward() method"
      ],
      "metadata": {
        "id": "MlUH0g1E3bHI"
      }
    },
    {
      "cell_type": "code",
      "source": [
        "# makke predictions with model\n",
        "with torch.inference_mode():#inference mode shut the grad_fn . becasue we are not doing training we dont need gradiant.\n",
        "  y_preds = model_0(x_test)\n",
        "\n",
        "y_preds"
      ],
      "metadata": {
        "colab": {
          "base_uri": "https://localhost:8080/"
        },
        "id": "2XT8srwC3KRC",
        "outputId": "f7440264-e1dc-4739-bdea-6b7c007a7e32"
      },
      "execution_count": 66,
      "outputs": [
        {
          "output_type": "execute_result",
          "data": {
            "text/plain": [
              "tensor([[0.3982],\n",
              "        [0.4049],\n",
              "        [0.4116],\n",
              "        [0.4184],\n",
              "        [0.4251],\n",
              "        [0.4318],\n",
              "        [0.4386],\n",
              "        [0.4453],\n",
              "        [0.4520],\n",
              "        [0.4588]])"
            ]
          },
          "metadata": {},
          "execution_count": 66
        }
      ]
    },
    {
      "cell_type": "code",
      "source": [
        "y_test\n"
      ],
      "metadata": {
        "colab": {
          "base_uri": "https://localhost:8080/"
        },
        "id": "M8TeE0AE4PSr",
        "outputId": "ffcae0bb-46bd-41d0-ec59-c0852ae4b7ee"
      },
      "execution_count": 67,
      "outputs": [
        {
          "output_type": "execute_result",
          "data": {
            "text/plain": [
              "tensor([[0.8600],\n",
              "        [0.8740],\n",
              "        [0.8880],\n",
              "        [0.9020],\n",
              "        [0.9160],\n",
              "        [0.9300],\n",
              "        [0.9440],\n",
              "        [0.9580],\n",
              "        [0.9720],\n",
              "        [0.9860]])"
            ]
          },
          "metadata": {},
          "execution_count": 67
        }
      ]
    },
    {
      "cell_type": "code",
      "source": [
        "plot_predictions(predictions=y_preds )"
      ],
      "metadata": {
        "colab": {
          "base_uri": "https://localhost:8080/",
          "height": 471
        },
        "id": "lCkittn240_e",
        "outputId": "5a70897c-e9dc-4968-8e9e-9df40f4fcc52"
      },
      "execution_count": 68,
      "outputs": [
        {
          "output_type": "display_data",
          "data": {
            "text/plain": [
              "<Figure size 1000x700 with 1 Axes>"
            ],
            "image/png": "[encoded data removed]"
          },
          "metadata": {}
        }
      ]
    },
    {
      "cell_type": "markdown",
      "source": [
        "### 3.Train Model\n",
        "\n",
        "The whole idea of training is for a model to move from some *unknown* parameters to some *known* parameters.\n",
        "\n",
        "or in other words from a poor representation of the data to a better representatin of the data\n",
        "\n",
        "one way to measure how poor or how wrong your models predictions are is to use a loss function.\n",
        "\n",
        "* Note : loss function may also be called cost function or criterion\n",
        "* **Loss function:** mesuaremnt of how far prediction from actual value\n",
        "\n",
        "* **Optimizer:** Takes into account the loss of a model;s parameter and adjusts the model;s parameter to improve the loss function  \n",
        "\n",
        "And specifically for pytorch we need\n",
        "->training loop\n",
        "->testing loop"
      ],
      "metadata": {
        "id": "EZu1koJe544j"
      }
    },
    {
      "cell_type": "code",
      "source": [
        "model_0.state_dict()"
      ],
      "metadata": {
        "id": "q15PkHYs5Agp",
        "colab": {
          "base_uri": "https://localhost:8080/"
        },
        "outputId": "a9f14970-0cbc-488a-8e84-283459f9a3ac"
      },
      "execution_count": 16,
      "outputs": [
        {
          "output_type": "execute_result",
          "data": {
            "text/plain": [
              "OrderedDict([('weights', tensor([0.3367])), ('bias', tensor([0.1288]))])"
            ]
          },
          "metadata": {},
          "execution_count": 16
        }
      ]
    },
    {
      "cell_type": "code",
      "source": [
        "# setup loss function\n",
        "\n",
        "loss_fn=nn.L1Loss()\n",
        "\n",
        "# setup an optimizer (stochastic gradient descent)\n",
        "optimizer=torch.optim.SGD(params=model_0.parameters(),lr=0.01) #lr=learning rate =possibly the most important hyperparameter you can set\n",
        "\n",
        "\n",
        "\n",
        "\n"
      ],
      "metadata": {
        "id": "fAiQ6whB8HoJ"
      },
      "execution_count": 69,
      "outputs": []
    },
    {
      "cell_type": "markdown",
      "source": [
        "### Building a training loop and testing loop in pytorch\n",
        "\n",
        "A couple of things we need in train loop:\n",
        "0. Loop through the data\n",
        "1. forward pass (this involves data moving through our model's `forward()` functions\n",
        "2. calculate the loss (compare forward pass predictions to ground truth labels)\n",
        "3. optimizer zero grad\n",
        "4. Loss backward - move backwardthrough the network to calculate the gradients of each of the parameters of our model with respect to the loss.(**backpropagation**)\n",
        "5. Optimizer step - use the optimizer to adjuct our model's parameters to try and improve the loss (**gradiant decent**)\n",
        "\n"
      ],
      "metadata": {
        "id": "bKIh7ORDA2om"
      }
    },
    {
      "cell_type": "code",
      "source": [
        "torch.manual_seed(42)\n",
        "# epoch is one loop through the data.. (this is a hyperparamer because we've set it by us)\n",
        "epochs=100\n",
        "\n",
        "# 0. Loop through the data\n",
        "for epoch in range(epochs):\n",
        "  # set the model to training mode\n",
        "  model_0.train()  #train mode in pytorch sets all parameter that require gradients to require gradients\n",
        "\n",
        "\n",
        "  # 1. Forward pass\n",
        "  y_pred=model_0(x_train)\n",
        "\n",
        "  #2. calculate loss\n",
        "  loss= loss_fn(y_pred,y_train)\n",
        "  # print(loss)\n",
        "  #3. optimizer zero grad\n",
        "  optimizer.zero_grad()\n",
        "\n",
        "  # 4. perform backprapogation on the loss with respect to the parameters of the model\n",
        "  loss.backward()\n",
        "\n",
        "  # 5 . step the optimizer\n",
        "  optimizer.step() #by default how the optimizer chages will acculumate throgh the loop so.. we have to zero them above in step 3\n",
        "\n",
        "\n",
        "  model_0.eval()#turns off gradient traking which is not need for testing (dropout/batchnom layes)\n",
        "\n",
        "  with torch.inference_mode():#this turns of gradient tracking & a couple more things behind the scens\n",
        "    # 1. Do the Froward pass\n",
        "    test_pred=model_0(x_test)\n",
        "\n",
        "    # 2. calculate the loss\n",
        "    test_loss=loss_fn(test_pred,y_test)\n",
        "  if epoch%10==0:\n",
        "    print(f\"Epoch: {epoch} | Loss: {loss} | Test loss: {test_loss}\")\n",
        "\n",
        "    #\n",
        "\n"
      ],
      "metadata": {
        "colab": {
          "base_uri": "https://localhost:8080/"
        },
        "id": "mFtARjAlCOOX",
        "outputId": "80a866ea-46b7-4e89-97bc-6d5649a0b693"
      },
      "execution_count": 70,
      "outputs": [
        {
          "output_type": "stream",
          "name": "stdout",
          "text": [
            "Epoch: 0 | Loss: 0.31288138031959534 | Test loss: 0.48106518387794495\n",
            "Epoch: 10 | Loss: 0.1976713240146637 | Test loss: 0.3463551998138428\n",
            "Epoch: 20 | Loss: 0.08908725529909134 | Test loss: 0.21729660034179688\n",
            "Epoch: 30 | Loss: 0.053148526698350906 | Test loss: 0.14464017748832703\n",
            "Epoch: 40 | Loss: 0.04543796554207802 | Test loss: 0.11360953003168106\n",
            "Epoch: 50 | Loss: 0.04167863354086876 | Test loss: 0.09919948130846024\n",
            "Epoch: 60 | Loss: 0.03818932920694351 | Test loss: 0.08886633068323135\n",
            "Epoch: 70 | Loss: 0.03476089984178543 | Test loss: 0.0805937647819519\n",
            "Epoch: 80 | Loss: 0.03132382780313492 | Test loss: 0.07232122868299484\n",
            "Epoch: 90 | Loss: 0.02788739837706089 | Test loss: 0.06473556160926819\n"
          ]
        }
      ]
    },
    {
      "cell_type": "code",
      "source": [
        "model_0.state_dict()"
      ],
      "metadata": {
        "colab": {
          "base_uri": "https://localhost:8080/"
        },
        "id": "AGF7u6bxK3D8",
        "outputId": "38e7eafd-8f01-436b-c1bb-be0d4b95b6e1"
      },
      "execution_count": 71,
      "outputs": [
        {
          "output_type": "execute_result",
          "data": {
            "text/plain": [
              "OrderedDict([('weights', tensor([0.5784])), ('bias', tensor([0.3513]))])"
            ]
          },
          "metadata": {},
          "execution_count": 71
        }
      ]
    },
    {
      "cell_type": "code",
      "source": [
        "with torch.inference_mode():\n",
        "  y_preds_new=model_0(x_test)\n",
        "\n",
        "plot_predictions(predictions=y_preds);\n"
      ],
      "metadata": {
        "colab": {
          "base_uri": "https://localhost:8080/",
          "height": 471
        },
        "id": "CVyisGX_K_Jf",
        "outputId": "0fced23d-99d4-4190-bc8b-e380bb7523e8"
      },
      "execution_count": 72,
      "outputs": [
        {
          "output_type": "display_data",
          "data": {
            "text/plain": [
              "<Figure size 1000x700 with 1 Axes>"
            ],
            "image/png": "[encoded data removed]"
          },
          "metadata": {}
        }
      ]
    },
    {
      "cell_type": "code",
      "source": [
        "plot_predictions(predictions=y_preds_new);"
      ],
      "metadata": {
        "colab": {
          "base_uri": "https://localhost:8080/",
          "height": 471
        },
        "id": "i7H8shiPMNs6",
        "outputId": "9dfda7de-2e49-481f-b606-49e44fc26013"
      },
      "execution_count": 73,
      "outputs": [
        {
          "output_type": "display_data",
          "data": {
            "text/plain": [
              "<Figure size 1000x700 with 1 Axes>"
            ],
            "image/png": "[encoded data removed]"
          },
          "metadata": {}
        }
      ]
    },
    {
      "cell_type": "code",
      "source": [],
      "metadata": {
        "id": "baRfsmjRMb6H"
      },
      "execution_count": null,
      "outputs": []
    }
  ]
}